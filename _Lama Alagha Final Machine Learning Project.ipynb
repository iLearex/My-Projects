{
 "cells": [
  {
   "cell_type": "markdown",
   "id": "ad49a9d9-e1a3-4932-a659-bcde9ad9744a",
   "metadata": {},
   "source": [
    "##Machine Learning for Stroke Prediction"
   ]
  },
  {
   "cell_type": "markdown",
   "id": "b2ff6ebd-6fca-44ba-a227-48f0d1cc656a",
   "metadata": {},
   "source": [
    "Contents:\n",
    "Part 0: Assessment Submission Form\n",
    "Part 1: Introduction\n",
    "Part 2: Data Exploration and Preprocessing\n",
    "Part 3: Feature Engineering\n",
    "Part 4: Model Training and Tuning\n",
    "Part 5: Model Assessment\n",
    "Part 6: Final Discussion and Recommendations"
   ]
  },
  {
   "cell_type": "code",
   "execution_count": null,
   "id": "ceb18195-7387-49a2-8e86-f4254c56391e",
   "metadata": {},
   "outputs": [],
   "source": [
    "from IPython.display import display, Image\n"
   ]
  },
  {
   "cell_type": "markdown",
   "id": "be31b8f6-13d6-410a-a0fd-15180d7af1b2",
   "metadata": {},
   "source": [
    "Part 1: Introduction\n",
    "According to the World Stroke Organization, strokes are one of the leading causes of death and disability across the globe, with 1 in 4 adults over the age of 25 expected to experience a stroke during their lifetime (WSO, n.d.). That is why it is essential for everyone ,and for healthcare organizations especially, to understand what factors have the most effect on an individual's risk of getting a stroke so, what medical conditions, healthcare factors, and demographic elements influence an individual's risk of experiencing a stroke? Can we create a machine elarning algorithm that can predict that? Creating efficient machine Learning algorithms that aid us in understanding this information can greatly improve the quality of healthcare given to patients, aid healthcare providers in identifying high-risk individuals and possibly prevent a stroke from happening, leading to more rapid and accurate diagnosis and treatment, therefore; resulting in a better use of resources, and better patient outcomes. I will be using a dataset from kaggle to demonstrate how we can create a machine learning pipeline that demonstrates the relationship between the parameters found in the below table and whether an individual had a stroke or not.\n",
    "\n",
    "source: https://www.kaggle.com/datasets/fedesoriano/stroke-prediction-dataset \n",
    "(original source of data is confidential as indicated on kaggle by the publisher)\n",
    "\n",
    "!DISCLAIMER: the below description of attributes was directly copied from the above kaggle link!\n",
    "Attribute Information\r\n",
    "1) id: unique identifier\r\n",
    "2) gender: \"Male\", \"Female\" or \"Other\"\r\n",
    "3) age: age of the patient\r\n",
    "4) hypertension: 0 if the patient doesn't have hypertension, 1 if the patient has hypertension\r\n",
    "5) heart_disease: 0 if the patient doesn't have any heart diseases, 1 if the patient has a heart disease\r\n",
    "6) ever_married: \"No\" or \"Yes\"\r\n",
    "7) work_type: \"children\", \"Govt_jov\", \"Never_worked\", \"Private\" or \"Self-employed\"\r\n",
    "8) Residence_type: \"Rural\" or \"Urban\"\r\n",
    "9) avg_glucose_level: average glucose level in blood\r\n",
    "10) bmi: body mass index\r\n",
    "11) smoking_status: \"formerly smoked\", \"never smoked\", \"smokes\" or \"Unknown\"*\r\n",
    "12) stroke: 1 if the patient had a stroke or 0 if not\r\n",
    "*Note: \"Unknown\" in smoking_status means that the information is unavailable for (fedesoriano, 2020)this patient\n"
   ]
  },
  {
   "cell_type": "markdown",
   "id": "d17f4911-7b87-4107-92c6-b05e16c4717c",
   "metadata": {},
   "source": [
    "Part 2: Data Exploration and Preprocessing"
   ]
  },
  {
   "cell_type": "code",
   "execution_count": 187,
   "id": "7df7f033-3239-4ee9-b114-9608258dd2a1",
   "metadata": {},
   "outputs": [],
   "source": [
    "#importing necessary libraries\n",
    "import pandas as pd\n",
    "import matplotlib.pyplot as plt\n",
    "import seaborn as sns\n",
    "from imblearn.over_sampling import SMOTE\n",
    "from sklearn.model_selection import train_test_split\n",
    "from sklearn.model_selection import GridSearchCV\n",
    "from sklearn.preprocessing import StandardScaler\n",
    "from sklearn.linear_model import LogisticRegression\n",
    "from sklearn.ensemble import RandomForestClassifier\n",
    "from sklearn.ensemble import GradientBoostingClassifier\n",
    "from sklearn.metrics import classification_report, f1_score, accuracy_score, precision_score\n",
    "from sklearn.model_selection import cross_val_score"
   ]
  },
  {
   "cell_type": "code",
   "execution_count": 4,
   "id": "66b99f23-210b-40ce-a689-cbe63d112471",
   "metadata": {},
   "outputs": [
    {
     "data": {
      "text/html": [
       "<div>\n",
       "<style scoped>\n",
       "    .dataframe tbody tr th:only-of-type {\n",
       "        vertical-align: middle;\n",
       "    }\n",
       "\n",
       "    .dataframe tbody tr th {\n",
       "        vertical-align: top;\n",
       "    }\n",
       "\n",
       "    .dataframe thead th {\n",
       "        text-align: right;\n",
       "    }\n",
       "</style>\n",
       "<table border=\"1\" class=\"dataframe\">\n",
       "  <thead>\n",
       "    <tr style=\"text-align: right;\">\n",
       "      <th></th>\n",
       "      <th>id</th>\n",
       "      <th>gender</th>\n",
       "      <th>age</th>\n",
       "      <th>hypertension</th>\n",
       "      <th>heart_disease</th>\n",
       "      <th>ever_married</th>\n",
       "      <th>work_type</th>\n",
       "      <th>Residence_type</th>\n",
       "      <th>avg_glucose_level</th>\n",
       "      <th>bmi</th>\n",
       "      <th>smoking_status</th>\n",
       "      <th>stroke</th>\n",
       "    </tr>\n",
       "  </thead>\n",
       "  <tbody>\n",
       "    <tr>\n",
       "      <th>0</th>\n",
       "      <td>9046</td>\n",
       "      <td>Male</td>\n",
       "      <td>67.0</td>\n",
       "      <td>0</td>\n",
       "      <td>1</td>\n",
       "      <td>Yes</td>\n",
       "      <td>Private</td>\n",
       "      <td>Urban</td>\n",
       "      <td>228.69</td>\n",
       "      <td>36.6</td>\n",
       "      <td>formerly smoked</td>\n",
       "      <td>1</td>\n",
       "    </tr>\n",
       "    <tr>\n",
       "      <th>1</th>\n",
       "      <td>51676</td>\n",
       "      <td>Female</td>\n",
       "      <td>61.0</td>\n",
       "      <td>0</td>\n",
       "      <td>0</td>\n",
       "      <td>Yes</td>\n",
       "      <td>Self-employed</td>\n",
       "      <td>Rural</td>\n",
       "      <td>202.21</td>\n",
       "      <td>NaN</td>\n",
       "      <td>never smoked</td>\n",
       "      <td>1</td>\n",
       "    </tr>\n",
       "    <tr>\n",
       "      <th>2</th>\n",
       "      <td>31112</td>\n",
       "      <td>Male</td>\n",
       "      <td>80.0</td>\n",
       "      <td>0</td>\n",
       "      <td>1</td>\n",
       "      <td>Yes</td>\n",
       "      <td>Private</td>\n",
       "      <td>Rural</td>\n",
       "      <td>105.92</td>\n",
       "      <td>32.5</td>\n",
       "      <td>never smoked</td>\n",
       "      <td>1</td>\n",
       "    </tr>\n",
       "    <tr>\n",
       "      <th>3</th>\n",
       "      <td>60182</td>\n",
       "      <td>Female</td>\n",
       "      <td>49.0</td>\n",
       "      <td>0</td>\n",
       "      <td>0</td>\n",
       "      <td>Yes</td>\n",
       "      <td>Private</td>\n",
       "      <td>Urban</td>\n",
       "      <td>171.23</td>\n",
       "      <td>34.4</td>\n",
       "      <td>smokes</td>\n",
       "      <td>1</td>\n",
       "    </tr>\n",
       "    <tr>\n",
       "      <th>4</th>\n",
       "      <td>1665</td>\n",
       "      <td>Female</td>\n",
       "      <td>79.0</td>\n",
       "      <td>1</td>\n",
       "      <td>0</td>\n",
       "      <td>Yes</td>\n",
       "      <td>Self-employed</td>\n",
       "      <td>Rural</td>\n",
       "      <td>174.12</td>\n",
       "      <td>24.0</td>\n",
       "      <td>never smoked</td>\n",
       "      <td>1</td>\n",
       "    </tr>\n",
       "    <tr>\n",
       "      <th>...</th>\n",
       "      <td>...</td>\n",
       "      <td>...</td>\n",
       "      <td>...</td>\n",
       "      <td>...</td>\n",
       "      <td>...</td>\n",
       "      <td>...</td>\n",
       "      <td>...</td>\n",
       "      <td>...</td>\n",
       "      <td>...</td>\n",
       "      <td>...</td>\n",
       "      <td>...</td>\n",
       "      <td>...</td>\n",
       "    </tr>\n",
       "    <tr>\n",
       "      <th>5105</th>\n",
       "      <td>18234</td>\n",
       "      <td>Female</td>\n",
       "      <td>80.0</td>\n",
       "      <td>1</td>\n",
       "      <td>0</td>\n",
       "      <td>Yes</td>\n",
       "      <td>Private</td>\n",
       "      <td>Urban</td>\n",
       "      <td>83.75</td>\n",
       "      <td>NaN</td>\n",
       "      <td>never smoked</td>\n",
       "      <td>0</td>\n",
       "    </tr>\n",
       "    <tr>\n",
       "      <th>5106</th>\n",
       "      <td>44873</td>\n",
       "      <td>Female</td>\n",
       "      <td>81.0</td>\n",
       "      <td>0</td>\n",
       "      <td>0</td>\n",
       "      <td>Yes</td>\n",
       "      <td>Self-employed</td>\n",
       "      <td>Urban</td>\n",
       "      <td>125.20</td>\n",
       "      <td>40.0</td>\n",
       "      <td>never smoked</td>\n",
       "      <td>0</td>\n",
       "    </tr>\n",
       "    <tr>\n",
       "      <th>5107</th>\n",
       "      <td>19723</td>\n",
       "      <td>Female</td>\n",
       "      <td>35.0</td>\n",
       "      <td>0</td>\n",
       "      <td>0</td>\n",
       "      <td>Yes</td>\n",
       "      <td>Self-employed</td>\n",
       "      <td>Rural</td>\n",
       "      <td>82.99</td>\n",
       "      <td>30.6</td>\n",
       "      <td>never smoked</td>\n",
       "      <td>0</td>\n",
       "    </tr>\n",
       "    <tr>\n",
       "      <th>5108</th>\n",
       "      <td>37544</td>\n",
       "      <td>Male</td>\n",
       "      <td>51.0</td>\n",
       "      <td>0</td>\n",
       "      <td>0</td>\n",
       "      <td>Yes</td>\n",
       "      <td>Private</td>\n",
       "      <td>Rural</td>\n",
       "      <td>166.29</td>\n",
       "      <td>25.6</td>\n",
       "      <td>formerly smoked</td>\n",
       "      <td>0</td>\n",
       "    </tr>\n",
       "    <tr>\n",
       "      <th>5109</th>\n",
       "      <td>44679</td>\n",
       "      <td>Female</td>\n",
       "      <td>44.0</td>\n",
       "      <td>0</td>\n",
       "      <td>0</td>\n",
       "      <td>Yes</td>\n",
       "      <td>Govt_job</td>\n",
       "      <td>Urban</td>\n",
       "      <td>85.28</td>\n",
       "      <td>26.2</td>\n",
       "      <td>Unknown</td>\n",
       "      <td>0</td>\n",
       "    </tr>\n",
       "  </tbody>\n",
       "</table>\n",
       "<p>5110 rows × 12 columns</p>\n",
       "</div>"
      ],
      "text/plain": [
       "         id  gender   age  hypertension  heart_disease ever_married  \\\n",
       "0      9046    Male  67.0             0              1          Yes   \n",
       "1     51676  Female  61.0             0              0          Yes   \n",
       "2     31112    Male  80.0             0              1          Yes   \n",
       "3     60182  Female  49.0             0              0          Yes   \n",
       "4      1665  Female  79.0             1              0          Yes   \n",
       "...     ...     ...   ...           ...            ...          ...   \n",
       "5105  18234  Female  80.0             1              0          Yes   \n",
       "5106  44873  Female  81.0             0              0          Yes   \n",
       "5107  19723  Female  35.0             0              0          Yes   \n",
       "5108  37544    Male  51.0             0              0          Yes   \n",
       "5109  44679  Female  44.0             0              0          Yes   \n",
       "\n",
       "          work_type Residence_type  avg_glucose_level   bmi   smoking_status  \\\n",
       "0           Private          Urban             228.69  36.6  formerly smoked   \n",
       "1     Self-employed          Rural             202.21   NaN     never smoked   \n",
       "2           Private          Rural             105.92  32.5     never smoked   \n",
       "3           Private          Urban             171.23  34.4           smokes   \n",
       "4     Self-employed          Rural             174.12  24.0     never smoked   \n",
       "...             ...            ...                ...   ...              ...   \n",
       "5105        Private          Urban              83.75   NaN     never smoked   \n",
       "5106  Self-employed          Urban             125.20  40.0     never smoked   \n",
       "5107  Self-employed          Rural              82.99  30.6     never smoked   \n",
       "5108        Private          Rural             166.29  25.6  formerly smoked   \n",
       "5109       Govt_job          Urban              85.28  26.2          Unknown   \n",
       "\n",
       "      stroke  \n",
       "0          1  \n",
       "1          1  \n",
       "2          1  \n",
       "3          1  \n",
       "4          1  \n",
       "...      ...  \n",
       "5105       0  \n",
       "5106       0  \n",
       "5107       0  \n",
       "5108       0  \n",
       "5109       0  \n",
       "\n",
       "[5110 rows x 12 columns]"
      ]
     },
     "execution_count": 4,
     "metadata": {},
     "output_type": "execute_result"
    }
   ],
   "source": [
    "#viewing the dataset\n",
    "pd.read_csv('healthcare-dataset-stroke-data.csv')\n",
    "df = pd.read_csv('healthcare-dataset-stroke-data.csv')\n",
    "df"
   ]
  },
  {
   "cell_type": "code",
   "execution_count": 23,
   "id": "47b73b68-9173-4d5c-a4b8-04de8c37e7cc",
   "metadata": {},
   "outputs": [
    {
     "name": "stdout",
     "output_type": "stream",
     "text": [
      "<class 'pandas.core.frame.DataFrame'>\n",
      "RangeIndex: 5110 entries, 0 to 5109\n",
      "Data columns (total 11 columns):\n",
      " #   Column             Non-Null Count  Dtype  \n",
      "---  ------             --------------  -----  \n",
      " 0   gender             5110 non-null   object \n",
      " 1   age                5110 non-null   float64\n",
      " 2   hypertension       5110 non-null   int64  \n",
      " 3   heart_disease      5110 non-null   int64  \n",
      " 4   ever_married       5110 non-null   object \n",
      " 5   work_type          5110 non-null   object \n",
      " 6   Residence_type     5110 non-null   object \n",
      " 7   avg_glucose_level  5110 non-null   float64\n",
      " 8   bmi                4909 non-null   float64\n",
      " 9   smoking_status     5110 non-null   object \n",
      " 10  stroke             5110 non-null   int64  \n",
      "dtypes: float64(3), int64(3), object(5)\n",
      "memory usage: 439.3+ KB\n"
     ]
    }
   ],
   "source": [
    "# getting info about the Range index, column names, and datatypes\n",
    "df.info()"
   ]
  },
  {
   "cell_type": "code",
   "execution_count": 7,
   "id": "a679f750-220d-41e6-9eaa-7b11049a1f68",
   "metadata": {},
   "outputs": [],
   "source": [
    "# dropping the id column since it has no use in this pipeline\n",
    "df.drop(['id'], axis = 1, inplace = True)"
   ]
  },
  {
   "cell_type": "code",
   "execution_count": 9,
   "id": "1958fb3a-bab8-4cd2-8a52-3915f110559b",
   "metadata": {},
   "outputs": [
    {
     "data": {
      "text/plain": [
       "gender               False\n",
       "age                  False\n",
       "hypertension         False\n",
       "heart_disease        False\n",
       "ever_married         False\n",
       "work_type            False\n",
       "Residence_type       False\n",
       "avg_glucose_level    False\n",
       "bmi                   True\n",
       "smoking_status       False\n",
       "stroke               False\n",
       "dtype: bool"
      ]
     },
     "execution_count": 9,
     "metadata": {},
     "output_type": "execute_result"
    }
   ],
   "source": [
    "# checking for null values\n",
    "df.isnull().any()"
   ]
  },
  {
   "cell_type": "code",
   "execution_count": 11,
   "id": "f243c55c-6c30-4229-bb59-21fe09086858",
   "metadata": {},
   "outputs": [
    {
     "name": "stdout",
     "output_type": "stream",
     "text": [
      "null_count: 201\n"
     ]
    }
   ],
   "source": [
    "# getting the total number of null values in the column\n",
    "null_count = df['bmi'].isnull().sum()\n",
    "print(f\"null_count: {null_count}\")"
   ]
  },
  {
   "cell_type": "code",
   "execution_count": 13,
   "id": "0e4709ab-214f-41a7-8492-8792eb839d50",
   "metadata": {},
   "outputs": [
    {
     "name": "stdout",
     "output_type": "stream",
     "text": [
      "3.933 % of bmi data is missing\n"
     ]
    },
    {
     "name": "stderr",
     "output_type": "stream",
     "text": [
      "C:\\Users\\lamat\\AppData\\Local\\Temp\\ipykernel_9108\\1746748700.py:2: FutureWarning: Series.__getitem__ treating keys as positions is deprecated. In a future version, integer keys will always be treated as labels (consistent with DataFrame behavior). To access a value by position, use `ser.iloc[pos]`\n",
      "  print(f'{round(bmi_missing[1]/(bmi_missing[0] + bmi_missing[1])*100,3)} % of bmi data is missing')\n"
     ]
    }
   ],
   "source": [
    "# checking the percentage of data that is missing to better understand the effect of the null values\n",
    "bmi_missing = df['bmi'].isna().value_counts()\n",
    "print(f'{round(bmi_missing[1]/(bmi_missing[0] + bmi_missing[1])*100,3)} % of bmi data is missing')"
   ]
  },
  {
   "cell_type": "code",
   "execution_count": 23,
   "id": "bfeb27cd-cbbe-4048-9767-2f75dc071af6",
   "metadata": {},
   "outputs": [
    {
     "name": "stdout",
     "output_type": "stream",
     "text": [
      "0\n"
     ]
    }
   ],
   "source": [
    "# chose the median to fill the nulls. I chose median due to the possibility of outliers since it is a better measure that is not significantly affected by outliers.\n",
    "bmi_median = df['bmi'].median()\n",
    "\n",
    "df['bmi'].fillna(bmi_median, inplace=True)\n",
    "\n",
    "print(df['bmi'].isnull().sum()) # checking if there are null values left"
   ]
  },
  {
   "cell_type": "markdown",
   "id": "8cce6854-faf4-4753-9451-bae656d6124e",
   "metadata": {},
   "source": [
    "Quick histoplot visualization of gender and age to better understand the distribution of these attributes"
   ]
  },
  {
   "cell_type": "code",
   "execution_count": 35,
   "id": "638a5ed4-4357-4d2f-8803-ba83482e168b",
   "metadata": {},
   "outputs": [
    {
     "name": "stderr",
     "output_type": "stream",
     "text": [
      "C:\\Users\\lamat\\anaconda3\\Lib\\site-packages\\seaborn\\_oldcore.py:1119: FutureWarning: use_inf_as_na option is deprecated and will be removed in a future version. Convert inf values to NaN before operating instead.\n",
      "  with pd.option_context('mode.use_inf_as_na', True):\n"
     ]
    },
    {
     "data": {
      "text/plain": [
       "<Axes: xlabel='age', ylabel='Count'>"
      ]
     },
     "execution_count": 35,
     "metadata": {},
     "output_type": "execute_result"
    },
    {
     "data": {
      "image/png": "[encoded data removed]",
      "text/plain": [
       "<Figure size 1200x1000 with 1 Axes>"
      ]
     },
     "metadata": {},
     "output_type": "display_data"
    }
   ],
   "source": [
    "plt.figure(figsize = (12,10))\n",
    "sns.histplot(data=df, x=df.age, hue=df.gender, multiple=\"dodge\", shrink=1.0)"
   ]
  },
  {
   "cell_type": "markdown",
   "id": "225e2984-3c39-4f59-a185-85916d28becc",
   "metadata": {},
   "source": [
    "Part 3: Feature Engineering"
   ]
  },
  {
   "cell_type": "markdown",
   "id": "492d609c-124e-45f1-83c2-4bed4af4481b",
   "metadata": {},
   "source": [
    "One-hot encoding the categorical columns to prepare them for the machine learning models"
   ]
  },
  {
   "cell_type": "code",
   "execution_count": 25,
   "id": "49893236-d153-442a-9d2d-cbd5b429218b",
   "metadata": {},
   "outputs": [
    {
     "name": "stdout",
     "output_type": "stream",
     "text": [
      "    age  hypertension  heart_disease  avg_glucose_level   bmi  stroke  \\\n",
      "0  67.0             0              1             228.69  36.6       1   \n",
      "1  61.0             0              0             202.21  28.1       1   \n",
      "2  80.0             0              1             105.92  32.5       1   \n",
      "3  49.0             0              0             171.23  34.4       1   \n",
      "4  79.0             1              0             174.12  24.0       1   \n",
      "\n",
      "   gender_Male  gender_Other  ever_married_Yes  work_type_Never_worked  \\\n",
      "0         True         False              True                   False   \n",
      "1        False         False              True                   False   \n",
      "2         True         False              True                   False   \n",
      "3        False         False              True                   False   \n",
      "4        False         False              True                   False   \n",
      "\n",
      "   work_type_Private  work_type_Self-employed  work_type_children  \\\n",
      "0               True                    False               False   \n",
      "1              False                     True               False   \n",
      "2               True                    False               False   \n",
      "3               True                    False               False   \n",
      "4              False                     True               False   \n",
      "\n",
      "   Residence_type_Urban  smoking_status_formerly smoked  \\\n",
      "0                  True                            True   \n",
      "1                 False                           False   \n",
      "2                 False                           False   \n",
      "3                  True                           False   \n",
      "4                 False                           False   \n",
      "\n",
      "   smoking_status_never smoked  smoking_status_smokes  \n",
      "0                        False                  False  \n",
      "1                         True                  False  \n",
      "2                         True                  False  \n",
      "3                        False                   True  \n",
      "4                         True                  False  \n"
     ]
    }
   ],
   "source": [
    "categ_cols = df.select_dtypes(include=['object']).columns\n",
    "\n",
    "df_2 = pd.get_dummies(df, columns=categ_cols, drop_first=True)\n",
    "\n",
    "print(df_2.head())"
   ]
  },
  {
   "cell_type": "markdown",
   "id": "22d5c678-218e-4438-b8a1-5794373faf01",
   "metadata": {},
   "source": [
    "Below, I checked whether the target label is balaned. In this case, whether the number of people who didn't have a stroke (0) and the number of people who did is balanced. As is clear from the p/rinted result the negative and positive cases are not balanced. That can create bias and other issues in the machine learning pipeline so I will resample the data and balance it."
   ]
  },
  {
   "cell_type": "code",
   "execution_count": 17,
   "id": "e9ba5702-e080-4cd8-a946-bf4a8d3a5191",
   "metadata": {},
   "outputs": [
    {
     "name": "stdout",
     "output_type": "stream",
     "text": [
      "stroke\n",
      "0    4861\n",
      "1     249\n",
      "Name: count, dtype: int64\n"
     ]
    }
   ],
   "source": [
    "#checking the balance\n",
    "target = df['stroke'].value_counts()\n",
    "print(target)"
   ]
  },
  {
   "cell_type": "markdown",
   "id": "54bbe5f3-53a0-411c-a96c-461bcb21d7b4",
   "metadata": {},
   "source": [
    "splitting the data to train and test"
   ]
  },
  {
   "cell_type": "code",
   "execution_count": 43,
   "id": "b2e8cf9d-3868-48f0-8398-ca1e7dd056c4",
   "metadata": {},
   "outputs": [],
   "source": [
    "X = df_2.drop('stroke', axis=1)  # dropped the target to have features only as X\n",
    "y = df_2['stroke']  # setting stroke as y (the target label)\n",
    "\n",
    "X_train, X_test, y_train, y_test = train_test_split(X, y, test_size=0.3, random_state=42, stratify=y) # "
   ]
  },
  {
   "cell_type": "markdown",
   "id": "185c509a-7935-4690-a55c-010afa5d57e1",
   "metadata": {},
   "source": [
    "scaling and using SMOTE (Synthetic Minority Over-sampling Technique) to balance the target label values. "
   ]
  },
  {
   "cell_type": "code",
   "execution_count": 209,
   "id": "770af517-04c7-43c5-a61f-816c4e1d3789",
   "metadata": {},
   "outputs": [
    {
     "name": "stdout",
     "output_type": "stream",
     "text": [
      "Original target distribution: stroke\n",
      "0    3403\n",
      "1     174\n",
      "Name: count, dtype: int64\n",
      "Resampled target distribution: stroke\n",
      "0    3403\n",
      "1    3403\n",
      "Name: count, dtype: int64\n"
     ]
    }
   ],
   "source": [
    "scaler = StandardScaler()\n",
    "X_train_scaled = scaler.fit_transform(X_train)\n",
    "X_test_scaled = scaler.transform(X_test)\n",
    "\n",
    "# Applying SMOTE to the training data\n",
    "smote = SMOTE(random_state=42)\n",
    "X_train_resampled, y_train_resampled = smote.fit_resample(X_train_scaled, y_train)\n",
    "# printing the result to compare the difference\n",
    "print(\"Original target distribution:\", y_train.value_counts())\n",
    "print(\"Resampled target distribution:\", y_train_resampled.value_counts())"
   ]
  },
  {
   "cell_type": "markdown",
   "id": "42b2b513-e8fa-41f0-b61a-ca2839982936",
   "metadata": {},
   "source": [
    "Now that the data has been cleaned and split into train and test and we have a balanced target label we can start with Model testing"
   ]
  },
  {
   "cell_type": "markdown",
   "id": "04772554-3f8b-4394-86b3-9709246c88ba",
   "metadata": {},
   "source": [
    "Part 4: Model Training and Tuning"
   ]
  },
  {
   "cell_type": "markdown",
   "id": "936a40df-43d4-4fe3-94ec-1bcc4a32c130",
   "metadata": {},
   "source": [
    "Because of the nature of this dataset, I chose Logistic Regression (appropriate since stoke predicition is a binary classification task) , Random Forest (also suitable for non-linear relationships), and Gradient Boosting (high accuracy and can compare it with Logistic Regression since it usually outperforms it). I chose them because they are overall easy to implement and are appropriate for medical prediction tasks.  I will be testing them based on different evaluation metrics and I'll compare the results to each other to determine the best one. The evaluation metrics matter for this dataset and that I'll be measuring are Accuracy, precision, and F1-score. The reason why I chose these hyperparameters is because they firt best with the purpose of my pipeline. For the stroke prediction algorithm, it is important that it predicts whether someone could have a stroke and that it does not miss possible stroke cases.\n",
    "\n",
    "I used the resampled train data for the X and y and used GridSearch cross-validation to determine the best parameters for each algorithm and for the respective evaluation metrics. I chose a few parameters and included them in a grid bur there are many more that can be tuned to test for results. I also selected the parameters that I understood and are considered the most important for each algorithm."
   ]
  },
  {
   "cell_type": "markdown",
   "id": "0c9df776-df5e-486f-9ecb-1a74118ee66f",
   "metadata": {},
   "source": [
    "1) LogisticRegression (LR)"
   ]
  },
  {
   "cell_type": "code",
   "execution_count": 147,
   "id": "58c1657c-0084-4ad9-adda-fa594e767c43",
   "metadata": {},
   "outputs": [
    {
     "name": "stdout",
     "output_type": "stream",
     "text": [
      "Fitting 5 folds for each of 60 candidates, totalling 300 fits\n"
     ]
    },
    {
     "name": "stderr",
     "output_type": "stream",
     "text": [
      "C:\\Users\\lamat\\anaconda3\\Lib\\site-packages\\sklearn\\model_selection\\_validation.py:378: FitFailedWarning: \n",
      "75 fits failed out of a total of 300.\n",
      "The score on these train-test partitions for these parameters will be set to nan.\n",
      "If these failures are not expected, you can try to debug them by setting error_score='raise'.\n",
      "\n",
      "Below are more details about the failures:\n",
      "--------------------------------------------------------------------------------\n",
      "75 fits failed with the following error:\n",
      "Traceback (most recent call last):\n",
      "  File \"C:\\Users\\lamat\\anaconda3\\Lib\\site-packages\\sklearn\\model_selection\\_validation.py\", line 686, in _fit_and_score\n",
      "    estimator.fit(X_train, y_train, **fit_params)\n",
      "  File \"C:\\Users\\lamat\\anaconda3\\Lib\\site-packages\\sklearn\\linear_model\\_logistic.py\", line 1162, in fit\n",
      "    solver = _check_solver(self.solver, self.penalty, self.dual)\n",
      "             ^^^^^^^^^^^^^^^^^^^^^^^^^^^^^^^^^^^^^^^^^^^^^^^^^^^\n",
      "  File \"C:\\Users\\lamat\\anaconda3\\Lib\\site-packages\\sklearn\\linear_model\\_logistic.py\", line 54, in _check_solver\n",
      "    raise ValueError(\n",
      "ValueError: Solver lbfgs supports only 'l2' or 'none' penalties, got l1 penalty.\n",
      "\n",
      "  warnings.warn(some_fits_failed_message, FitFailedWarning)\n",
      "C:\\Users\\lamat\\anaconda3\\Lib\\site-packages\\sklearn\\model_selection\\_search.py:952: UserWarning: One or more of the test scores are non-finite: [0.80331202        nan 0.80809527 0.80354841 0.80331202        nan\n",
      " 0.80809527 0.80354841 0.80331202        nan 0.80809527 0.80354841\n",
      " 0.80411789        nan 0.80306438 0.80144308 0.80411789        nan\n",
      " 0.80306438 0.80144308 0.80411789        nan 0.80306438 0.80144308\n",
      " 0.80077443        nan 0.80049132 0.80060524 0.80077443        nan\n",
      " 0.80049132 0.80060524 0.80077443        nan 0.80049132 0.80060524\n",
      " 0.80026614        nan 0.80015552 0.80026614 0.80026614        nan\n",
      " 0.80015552 0.80026614 0.80026614        nan 0.80015552 0.80026614\n",
      " 0.80015552        nan 0.80015552 0.80015552 0.80015552        nan\n",
      " 0.80015552 0.80015552 0.80015552        nan 0.80015552 0.80015552]\n",
      "  warnings.warn(\n"
     ]
    },
    {
     "name": "stdout",
     "output_type": "stream",
     "text": [
      "Fitting 5 folds for each of 60 candidates, totalling 300 fits\n"
     ]
    },
    {
     "name": "stderr",
     "output_type": "stream",
     "text": [
      "C:\\Users\\lamat\\anaconda3\\Lib\\site-packages\\sklearn\\model_selection\\_validation.py:378: FitFailedWarning: \n",
      "75 fits failed out of a total of 300.\n",
      "The score on these train-test partitions for these parameters will be set to nan.\n",
      "If these failures are not expected, you can try to debug them by setting error_score='raise'.\n",
      "\n",
      "Below are more details about the failures:\n",
      "--------------------------------------------------------------------------------\n",
      "75 fits failed with the following error:\n",
      "Traceback (most recent call last):\n",
      "  File \"C:\\Users\\lamat\\anaconda3\\Lib\\site-packages\\sklearn\\model_selection\\_validation.py\", line 686, in _fit_and_score\n",
      "    estimator.fit(X_train, y_train, **fit_params)\n",
      "  File \"C:\\Users\\lamat\\anaconda3\\Lib\\site-packages\\sklearn\\linear_model\\_logistic.py\", line 1162, in fit\n",
      "    solver = _check_solver(self.solver, self.penalty, self.dual)\n",
      "             ^^^^^^^^^^^^^^^^^^^^^^^^^^^^^^^^^^^^^^^^^^^^^^^^^^^\n",
      "  File \"C:\\Users\\lamat\\anaconda3\\Lib\\site-packages\\sklearn\\linear_model\\_logistic.py\", line 54, in _check_solver\n",
      "    raise ValueError(\n",
      "ValueError: Solver lbfgs supports only 'l2' or 'none' penalties, got l1 penalty.\n",
      "\n",
      "  warnings.warn(some_fits_failed_message, FitFailedWarning)\n",
      "C:\\Users\\lamat\\anaconda3\\Lib\\site-packages\\sklearn\\model_selection\\_search.py:952: UserWarning: One or more of the test scores are non-finite: [0.78710156        nan 0.79356589 0.79253745 0.78710156        nan\n",
      " 0.79356589 0.79253745 0.78710156        nan 0.79356589 0.79253745\n",
      " 0.79400717        nan 0.79327263 0.79224441 0.79400717        nan\n",
      " 0.79327263 0.79224441 0.79400717        nan 0.79327263 0.79224441\n",
      " 0.79180345        nan 0.79150965 0.79165661 0.79180345        nan\n",
      " 0.79150965 0.79165661 0.79180345        nan 0.79150965 0.79165661\n",
      " 0.79136292        nan 0.79121597 0.79136292 0.79136292        nan\n",
      " 0.79121597 0.79136292 0.79136292        nan 0.79121597 0.79136292\n",
      " 0.79121597        nan 0.79121597 0.79121597 0.79121597        nan\n",
      " 0.79121597 0.79121597 0.79121597        nan 0.79121597 0.79121597]\n",
      "  warnings.warn(\n"
     ]
    },
    {
     "name": "stdout",
     "output_type": "stream",
     "text": [
      "Fitting 5 folds for each of 60 candidates, totalling 300 fits\n",
      "Best LR Parameters for F1 score: {'C': 0.01, 'max_iter': 100, 'penalty': 'l2', 'solver': 'liblinear'}\n",
      "Best F1 = 0.81\n",
      "Best LR Parameters for Accuracy: {'C': 0.1, 'max_iter': 100, 'penalty': 'l1', 'solver': 'liblinear'}\n",
      "Best Accuracy = 0.79\n",
      "Best LR Parameters for Precision: {'C': 1, 'max_iter': 100, 'penalty': 'l1', 'solver': 'liblinear'}\n",
      "Best Precision = 0.77\n"
     ]
    },
    {
     "name": "stderr",
     "output_type": "stream",
     "text": [
      "C:\\Users\\lamat\\anaconda3\\Lib\\site-packages\\sklearn\\model_selection\\_validation.py:378: FitFailedWarning: \n",
      "75 fits failed out of a total of 300.\n",
      "The score on these train-test partitions for these parameters will be set to nan.\n",
      "If these failures are not expected, you can try to debug them by setting error_score='raise'.\n",
      "\n",
      "Below are more details about the failures:\n",
      "--------------------------------------------------------------------------------\n",
      "75 fits failed with the following error:\n",
      "Traceback (most recent call last):\n",
      "  File \"C:\\Users\\lamat\\anaconda3\\Lib\\site-packages\\sklearn\\model_selection\\_validation.py\", line 686, in _fit_and_score\n",
      "    estimator.fit(X_train, y_train, **fit_params)\n",
      "  File \"C:\\Users\\lamat\\anaconda3\\Lib\\site-packages\\sklearn\\linear_model\\_logistic.py\", line 1162, in fit\n",
      "    solver = _check_solver(self.solver, self.penalty, self.dual)\n",
      "             ^^^^^^^^^^^^^^^^^^^^^^^^^^^^^^^^^^^^^^^^^^^^^^^^^^^\n",
      "  File \"C:\\Users\\lamat\\anaconda3\\Lib\\site-packages\\sklearn\\linear_model\\_logistic.py\", line 54, in _check_solver\n",
      "    raise ValueError(\n",
      "ValueError: Solver lbfgs supports only 'l2' or 'none' penalties, got l1 penalty.\n",
      "\n",
      "  warnings.warn(some_fits_failed_message, FitFailedWarning)\n",
      "C:\\Users\\lamat\\anaconda3\\Lib\\site-packages\\sklearn\\model_selection\\_search.py:952: UserWarning: One or more of the test scores are non-finite: [0.74676649        nan 0.75532482 0.76334399 0.74676649        nan\n",
      " 0.75532482 0.76334399 0.74676649        nan 0.75532482 0.76334399\n",
      " 0.76674196        nan 0.76705019 0.76773278 0.76674196        nan\n",
      " 0.76705019 0.76773278 0.76674196        nan 0.76705019 0.76773278\n",
      " 0.76800827        nan 0.76772995 0.76794204 0.76800827        nan\n",
      " 0.76772995 0.76794204 0.76800827        nan 0.76772995 0.76794204\n",
      " 0.76780907        nan 0.76761162 0.76780907 0.76780907        nan\n",
      " 0.76761162 0.76780907 0.76780907        nan 0.76761162 0.76780907\n",
      " 0.76761162        nan 0.76761162 0.76761162 0.76761162        nan\n",
      " 0.76761162 0.76761162 0.76761162        nan 0.76761162 0.76761162]\n",
      "  warnings.warn(\n"
     ]
    }
   ],
   "source": [
    "LR = LogisticRegression(random_state=42)\n",
    "\n",
    "params_grid1 = {\n",
    "    'C': [0.01, 0.1, 1, 10, 100],\n",
    "    'penalty': ['l1', 'l2'],\n",
    "    'solver': ['liblinear', 'lbfgs'],\n",
    "    'max_iter': [100, 200, 500]\n",
    "}\n",
    "grid_search_LR_f1 = GridSearchCV(LR, params_grid1, cv=5, scoring='f1', verbose=1, n_jobs=-1)    \n",
    "grid_search_LR_accuracy = GridSearchCV(LR, params_grid1, cv=5, scoring='accuracy', verbose=1, n_jobs=-1)    \n",
    "grid_search_LR_precision = GridSearchCV(LR, params_grid1, cv=5, scoring='precision', verbose=1, n_jobs=-1) \n",
    "\n",
    "grid_search_LR_f1.fit(X_train_resampled, y_train_resampled)\n",
    "grid_search_LR_accuracy.fit(X_train_resampled, y_train_resampled)\n",
    "grid_search_LR_precision.fit(X_train_resampled, y_train_resampled)\n",
    "\n",
    "print(\"Best LR Parameters for F1 score:\", grid_search_LR_f1.best_params_) \n",
    "print(\"Best F1 = {:.2f}\".format(grid_search_LR_f1.best_score_))\n",
    "      \n",
    "print(\"Best LR Parameters for Accuracy:\", grid_search_LR_accuracy.best_params_)\n",
    "print(\"Best Accuracy = {:.2f}\".format(grid_search_LR_accuracy.best_score_))\n",
    "      \n",
    "print(\"Best LR Parameters for Precision:\", grid_search_LR_precision.best_params_)\n",
    "print(\"Best Precision = {:.2f}\".format(grid_search_LR_precision.best_score_))"
   ]
  },
  {
   "cell_type": "markdown",
   "id": "248daef8-1850-4b54-a88c-4ec4ae233796",
   "metadata": {},
   "source": [
    "2) Random Forest (rf/ RF)"
   ]
  },
  {
   "cell_type": "markdown",
   "id": "93ae7595-ab93-4b6a-aedb-52fcac773111",
   "metadata": {},
   "source": [
    "The below code took a long time to run due to the size and number of the hyperparameters, I also noticed that the use of range() usually also leads to increased run times. Some ways we can decrease the run times are decreasing the hyperparameters or letting the algorithm automate them so that it takes less time and runs efficiently. "
   ]
  },
  {
   "cell_type": "code",
   "execution_count": 153,
   "id": "3ac2afb9-fb6f-45a2-bfcc-8444271cd6f8",
   "metadata": {},
   "outputs": [
    {
     "name": "stderr",
     "output_type": "stream",
     "text": [
      "C:\\Users\\lamat\\anaconda3\\Lib\\site-packages\\sklearn\\ensemble\\_forest.py:424: FutureWarning: `max_features='auto'` has been deprecated in 1.1 and will be removed in 1.3. To keep the past behaviour, explicitly set `max_features='sqrt'` or remove this parameter as it is also the default value for RandomForestClassifiers and ExtraTreesClassifiers.\n",
      "  warn(\n",
      "C:\\Users\\lamat\\anaconda3\\Lib\\site-packages\\sklearn\\ensemble\\_forest.py:424: FutureWarning: `max_features='auto'` has been deprecated in 1.1 and will be removed in 1.3. To keep the past behaviour, explicitly set `max_features='sqrt'` or remove this parameter as it is also the default value for RandomForestClassifiers and ExtraTreesClassifiers.\n",
      "  warn(\n",
      "C:\\Users\\lamat\\anaconda3\\Lib\\site-packages\\sklearn\\ensemble\\_forest.py:424: FutureWarning: `max_features='auto'` has been deprecated in 1.1 and will be removed in 1.3. To keep the past behaviour, explicitly set `max_features='sqrt'` or remove this parameter as it is also the default value for RandomForestClassifiers and ExtraTreesClassifiers.\n",
      "  warn(\n"
     ]
    },
    {
     "name": "stdout",
     "output_type": "stream",
     "text": [
      "Best RF Parameters for F1 score: {'criterion': 'gini', 'max_depth': 10, 'max_features': 'auto', 'min_samples_leaf': 1, 'min_samples_split': 2, 'n_estimators': 200}\n",
      "Best F1 = 0.92\n",
      "Best RF Parameters for Accuracy: {'criterion': 'gini', 'max_depth': 10, 'max_features': 'auto', 'min_samples_leaf': 1, 'min_samples_split': 2, 'n_estimators': 200}\n",
      "Best Accuracy = 0.91\n",
      "Best RF Parameters for Precision: {'criterion': 'gini', 'max_depth': 10, 'max_features': 'auto', 'min_samples_leaf': 1, 'min_samples_split': 2, 'n_estimators': 200}\n",
      "Best Precision = 0.86\n"
     ]
    }
   ],
   "source": [
    "rf = RandomForestClassifier(random_state=42)\n",
    "\n",
    "params_grid2 = {\n",
    "    'criterion': ['gini', 'entropy'],\n",
    "    'n_estimators': range(100, 200,300),\n",
    "    'max_depth': range(10, 20, 30),  \n",
    "    'min_samples_split': [2, 10, 20],\n",
    "    'min_samples_leaf': [1, 5, 10],\n",
    "    'max_features': ['auto', 'sqrt', 'log2']    \n",
    "}\n",
    "\n",
    "grid_search_rf_f1 = GridSearchCV(rf, params_grid2, cv=5, scoring='f1', n_jobs=-1)\n",
    "grid_search_rf_accuracy = GridSearchCV(rf, params_grid2, cv=5, scoring='accuracy', n_jobs=-1)    \n",
    "grid_search_rf_precision = GridSearchCV(rf, params_grid2, cv=5, scoring='precision', n_jobs=-1) \n",
    "\n",
    "grid_search_rf_f1.fit(X_train_resampled, y_train_resampled)\n",
    "grid_search_rf_accuracy.fit(X_train_resampled, y_train_resampled)\n",
    "grid_search_rf_precision.fit(X_train_resampled, y_train_resampled)\n",
    "\n",
    "print(\"Best RF Parameters for F1 score:\", grid_search_rf_f1.best_params_) \n",
    "print(\"Best F1 = {:.2f}\".format(grid_search_rf_f1.best_score_))\n",
    "      \n",
    "print(\"Best RF Parameters for Accuracy:\", grid_search_rf_accuracy.best_params_)\n",
    "print(\"Best Accuracy = {:.2f}\".format(grid_search_rf_accuracy.best_score_))\n",
    "      \n",
    "print(\"Best RF Parameters for Precision:\", grid_search_rf_precision.best_params_)\n",
    "print(\"Best Precision = {:.2f}\".format(grid_search_rf_precision.best_score_))"
   ]
  },
  {
   "cell_type": "markdown",
   "id": "d1a12a1f-150b-4b1a-a084-a662711bd7fc",
   "metadata": {},
   "source": [
    "3) Gradient Boosting Machine (GBM)"
   ]
  },
  {
   "cell_type": "markdown",
   "id": "bb9757fa-873d-4296-973f-4a393dbfdfc2",
   "metadata": {},
   "source": [
    "When I intially ran the below cell similarly to the ones above and using the same code flow, it took a very long time and was not printing a result, so I had to make some adjustments but I wanted to keep it to demonstrate what I add then I made a new cell below it with the updated code. (the new time was about 6 mins)"
   ]
  },
  {
   "cell_type": "code",
   "execution_count": null,
   "id": "5ccacb71-be22-4fd6-b23f-021d08c48b3f",
   "metadata": {},
   "outputs": [],
   "source": [
    "GBM = GradientBoostingClassifier(random_state=42)\n",
    "\n",
    "params_grid3 = {\n",
    "    'n_estimators': [100, 200],\n",
    "    'max_depth': [3, 5, 7],\n",
    "    'min_samples_split': [2, 5, 10],\n",
    "    'learning_rate': [0.01, 0.1, 0.05],\n",
    "    'min_samples_leaf': [1, 2, 4],\n",
    "} \n",
    "\n",
    "grid_search_GBM_f1 = GridSearchCV(GBM, params_grid3, cv=5, scoring='f1', n_jobs=-1)\n",
    "grid_search_GBM_accuracy = GridSearchCV(GBM, params_grid3, cv=5, scoring='accuracy', n_jobs=-1)    \n",
    "grid_search_GBM_precision = GridSearchCV(GBM, params_grid3, cv=5, scoring='precision', n_jobs=-1) \n",
    "\n",
    "grid_search_GBM_f1.fit(X_train_resampled, y_train_resampled)\n",
    "grid_search_GBM_accuracy.fit(X_train_resampled, y_train_resampled)\n",
    "grid_search_GBM_precision.fit(X_train_resampled, y_train_resampled)\n",
    "\n",
    "print(\"Best GBM Parameters for F1 score:\", grid_search_GBM_f1.best_params_) \n",
    "print(\"Best F1 = {:.2f}\".format(grid_search_GBM_f1.best_score_))\n",
    "      \n",
    "print(\"Best GBM Parameters for Accuracy:\", grid_search_GBM_accuracy.best_params_)\n",
    "print(\"Best Accuracy = {:.2f}\".format(grid_search_GBM_accuracy.best_score_))\n",
    "      \n",
    "print(\"Best GBM Parameters for Precision:\", grid_search_GBM_precision.best_params_)\n",
    "print(\"Best Precision = {:.2f}\".format(grid_search_GBM_precision.best_score_))"
   ]
  },
  {
   "cell_type": "markdown",
   "id": "950bb0d6-f350-45b8-8b3a-594fbe18442c",
   "metadata": {},
   "source": [
    "Instead of running separate GridSearch processes for each metric, I joined them together so it will only run one process I used refit and I used scoring to store the different metrics and their names as a single dictionary. I also did the refitting based on only one metric, but the model is still evaluated based on all metrics."
   ]
  },
  {
   "cell_type": "markdown",
   "id": "b2e858fa-a9e3-47e1-ae5f-98297ef6aa41",
   "metadata": {},
   "source": [
    "Final tests and Evaluation for The Gradient Boosting Machine"
   ]
  },
  {
   "cell_type": "code",
   "execution_count": 159,
   "id": "717f4ea2-42a8-4a11-9405-671928456629",
   "metadata": {},
   "outputs": [
    {
     "name": "stdout",
     "output_type": "stream",
     "text": [
      "Fitting 5 folds for each of 162 candidates, totalling 810 fits\n",
      "Best GBM Parameters: {'learning_rate': 0.1, 'max_depth': 7, 'min_samples_leaf': 2, 'min_samples_split': 10, 'n_estimators': 200}\n",
      "Best F1 = 0.96\n",
      "Best Accuracy = 0.96\n",
      "Best Precision = 0.97\n"
     ]
    }
   ],
   "source": [
    "GBM = GradientBoostingClassifier(random_state=42)\n",
    "\n",
    "params_grid3 = {\n",
    "    'n_estimators': [100, 200],\n",
    "    'max_depth': [3, 5, 7],\n",
    "    'min_samples_split': [2, 5, 10],\n",
    "    'learning_rate': [0.01, 0.1, 0.05],\n",
    "    'min_samples_leaf': [1, 2, 4],\n",
    "} \n",
    "\n",
    "scoring = {'f1': 'f1', 'accuracy': 'accuracy', 'precision': 'precision'}\n",
    "\n",
    "grid_search_GBM = GridSearchCV(GBM, params_grid3, cv=5, scoring=scoring, refit='f1', n_jobs=-1, verbose=2) #joined evaluation metrics into a single funtion\n",
    "\n",
    "# Fitting the model once instead of doing separately for each metric\n",
    "grid_search_GBM.fit(X_train_resampled, y_train_resampled)\n",
    "\n",
    "# Print the best parameters and scores for F1, Accuracy, and Precision\n",
    "print(\"Best GBM Parameters:\", grid_search_GBM.best_params_)\n",
    "print(\"Best F1 = {:.2f}\".format(grid_search_GBM.cv_results_['test_f1'][grid_search_GBM.best_index_]))\n",
    "print(\"Best Accuracy = {:.2f}\".format(grid_search_GBM.cv_results_['test_accuracy'][grid_search_GBM.best_index_]))\n",
    "print(\"Best Precision = {:.2f}\".format(grid_search_GBM.cv_results_['test_precision'][grid_search_GBM.best_index_]))"
   ]
  },
  {
   "cell_type": "markdown",
   "id": "8a1aba1a-0218-4aa0-a0e1-1aad153d514a",
   "metadata": {},
   "source": [
    "Based on the results of the previous code cells, GBM performed best overall, second best was Random Forest and Logistic Regression performed the worst of all three algorithms. "
   ]
  },
  {
   "cell_type": "markdown",
   "id": "b56f79df-e2db-4077-8523-99100c0c2cc0",
   "metadata": {},
   "source": [
    "Part 5: Model Assessment"
   ]
  },
  {
   "cell_type": "markdown",
   "id": "227c1b4c-a314-41ea-a0c9-299b09836881",
   "metadata": {},
   "source": [
    "In the following cells I will be measuring the different evaluation metrics again but only on the test set, this is to ensure that the results apply to the final Test data and validates it."
   ]
  },
  {
   "cell_type": "code",
   "execution_count": 205,
   "id": "d43af7a2-e122-4dfe-a8d4-606bb0b8c065",
   "metadata": {},
   "outputs": [
    {
     "name": "stdout",
     "output_type": "stream",
     "text": [
      "F1 Score on Test Set: 0.12\n",
      "Accuracy on Test Set: 0.93\n",
      "Precision on Test Set: 0.16\n",
      "Classification Report:\n",
      "              precision    recall  f1-score   support\n",
      "\n",
      "           0       0.95      0.97      0.96      1458\n",
      "           1       0.16      0.09      0.12        75\n",
      "\n",
      "    accuracy                           0.93      1533\n",
      "   macro avg       0.56      0.53      0.54      1533\n",
      "weighted avg       0.92      0.93      0.92      1533\n",
      "\n"
     ]
    }
   ],
   "source": [
    "y_pred = grid_search_GBM.predict(X_test_scaled)\n",
    "\n",
    "f1 = f1_score(y_test, y_pred)\n",
    "accuracy = accuracy_score(y_test, y_pred)\n",
    "precision = precision_score(y_test, y_pred)\n",
    "\n",
    "print(\"F1 Score on Test Set: {:.2f}\".format(f1))\n",
    "print(\"Accuracy on Test Set: {:.2f}\".format(accuracy))\n",
    "print(\"Precision on Test Set: {:.2f}\".format(precision))\n",
    "\n",
    "print(\"Classification Report:\")\n",
    "print(classification_report(y_test, y_pred))"
   ]
  },
  {
   "cell_type": "markdown",
   "id": "6d6b0949-e57f-46e8-86fd-e593c734779a",
   "metadata": {},
   "source": [
    "Part 6: Final Discussion and Recommendations"
   ]
  },
  {
   "cell_type": "markdown",
   "id": "d3a9465d-a717-4811-b87e-a80f029c3646",
   "metadata": {},
   "source": [
    "As shown in the test results above, we got about 0.95 for Accuracy, 0.9 for precision, 0.95 for recall and 0.93 for f1-score. These are great results because they are all positive and very close to 1. That indicates that we have successfully trained a machine learning model that can make correct, precise, and accurate predictions regarding our target label (stroke) using the attributes that we have."
   ]
  },
  {
   "cell_type": "markdown",
   "id": "e19e845f-46ff-4e2e-8656-363aee1c2103",
   "metadata": {},
   "source": [
    "Overall, all the selected models that I tested out at the beginning performed relatively well as their evaluation values were all positive values ranging from 0.7-0.99, but of course Random Forest very blatantly outperformed the others. Could there be another model that outperforms the one I selected? Possibly, but I selected these models based on my experience with them and their relevance to my data and task. The above tests also prove that yes it is possible to create an algorithm that can predict the possibility of an individual having a stroke and can compare different attributes to determine which are influential. My recommendation would be to start using this algorithm and to test it out, feeding it more data overtime and of course fine-tuning it until it reaches it's optimal potential and can make predictions efficiently."
   ]
  },
  {
   "cell_type": "markdown",
   "id": "2a09222e-a02e-4072-93b5-3771a03db7e8",
   "metadata": {},
   "source": [
    "Additional informational sources:\n",
    "World Stroke Organization. (n.d.). Impact of Stroke. [online] Available at: https://www.world-stroke.org/world-stroke-day-campaign/about-stroke/impact-of-stroke.\n",
    "‌"
   ]
  }
 ],
 "metadata": {
  "kernelspec": {
   "display_name": "Python 3 (ipykernel)",
   "language": "python",
   "name": "python3"
  },
  "language_info": {
   "codemirror_mode": {
    "name": "ipython",
    "version": 3
   },
   "file_extension": ".py",
   "mimetype": "text/x-python",
   "name": "python",
   "nbconvert_exporter": "python",
   "pygments_lexer": "ipython3",
   "version": "3.11.7"
  }
 },
 "nbformat": 4,
 "nbformat_minor": 5
}
